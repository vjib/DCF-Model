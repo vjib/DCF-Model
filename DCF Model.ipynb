{
 "cells": [
  {
   "cell_type": "code",
   "execution_count": 541,
   "metadata": {},
   "outputs": [],
   "source": [
    "import math\n",
    "import numpy as np\n",
    "import matplotlib.pyplot as plt"
   ]
  },
  {
   "cell_type": "code",
   "execution_count": 542,
   "metadata": {},
   "outputs": [],
   "source": [
    "#Pricing stock using DCF model when dividend follows Geometric Brownian Motion\n",
    "\n",
    "r=0.1 # Require Rate of Return\n",
    "g=0.05 # Dividend Growth Rate per Year\n",
    "sigma=0.02 # Volatility of Dividend\n",
    "T=1000 # Time horizon (Year)\n",
    "f=1 # Frequency of dividend payment per year\n",
    "dt=1/f # Time Step\n",
    "n=int(T/dt) # Total sample time\n",
    "dividend=2.75\n",
    "\n",
    "samples=10000 # Number of samples for simulation\n",
    "\n",
    "stock_path=[[0 for x in range(n)] for y in range(samples)] "
   ]
  },
  {
   "cell_type": "code",
   "execution_count": 543,
   "metadata": {},
   "outputs": [],
   "source": [
    "#Generate Dividend Path\n",
    "\n",
    "for s in range(samples):\n",
    "    stock_path[s][0]=dividend\n",
    "    for t in range(1,len(stock_path[s])):\n",
    "        stock_path[s][t]=stock_path[s][t-1]*math.exp(np.random.normal((g-sigma**2/2)*dt,sigma*math.sqrt(dt)))"
   ]
  },
  {
   "cell_type": "code",
   "execution_count": 544,
   "metadata": {},
   "outputs": [],
   "source": [
    "#Stock pricing formula using discounted cash flow method\n",
    "\n",
    "def stockPricing(path):\n",
    "    dcf=0\n",
    "    for t in range(1,len(path)):\n",
    "        dcf+=(path[t]*dt)/((1+r)**(t*dt))\n",
    "    return dcf"
   ]
  },
  {
   "cell_type": "code",
   "execution_count": 545,
   "metadata": {},
   "outputs": [],
   "source": [
    "#Generate samples\n",
    "\n",
    "stock_dcf=[0]*samples\n",
    "\n",
    "for s in range(0,samples):\n",
    "    stock_dcf[s]=stockPricing(stock_path[s])"
   ]
  },
  {
   "cell_type": "code",
   "execution_count": 546,
   "metadata": {},
   "outputs": [
    {
     "name": "stdout",
     "output_type": "stream",
     "text": [
      "Traditional Closed Form Formula Method\n",
      "\n",
      "Expected stock price = 57.75\n"
     ]
    }
   ],
   "source": [
    "print(\"Traditional Closed Form Formula Method\\n\")\n",
    "price=dividend*(1+g)/(r-g)\n",
    "print(\"Expected stock price = \"+str(price))"
   ]
  },
  {
   "cell_type": "code",
   "execution_count": 547,
   "metadata": {},
   "outputs": [
    {
     "name": "stdout",
     "output_type": "stream",
     "text": [
      "Closed Form Formula Method\n",
      "\n",
      "Expected stock price = 59.328146131562384\n"
     ]
    }
   ],
   "source": [
    "print(\"Closed Form Formula Method\\n\")\n",
    "price=dt*(dividend*math.exp(g*dt))/((1+r)**dt-math.exp(g*dt))\n",
    "print(\"Expected stock price = \"+str(price))"
   ]
  },
  {
   "cell_type": "code",
   "execution_count": 548,
   "metadata": {},
   "outputs": [
    {
     "name": "stdout",
     "output_type": "stream",
     "text": [
      "Normal Monte Carlo Simulation Method\n",
      "\n",
      "Expected stock price = 59.40310168565274\n",
      "Variance of stock price = 0.0016396460860767504\n",
      "Range of stock = 59.399887979324035-59.40631539198145\n"
     ]
    }
   ],
   "source": [
    "print(\"Normal Monte Carlo Simulation Method\\n\")\n",
    "mean=np.mean(stock_dcf)\n",
    "std=np.std(stock_dcf)\n",
    "ci=1.96*std**2/samples\n",
    "print(\"Expected stock price = \"+str(mean))\n",
    "print(\"Variance of stock price = \"+str((std**2)/(samples)))\n",
    "print(\"Range of stock = \"+str(mean-ci)+\"-\"+str(mean+ci))"
   ]
  },
  {
   "cell_type": "code",
   "execution_count": 549,
   "metadata": {},
   "outputs": [],
   "source": [
    "#Variance Reduction Technique called Control Variate\n",
    "\n",
    "final_price=[0]*samples\n",
    "\n",
    "for s in range(samples):\n",
    "    final_price[s]=stock_path[s][len(stock_path[s])-1]\n",
    "\n",
    "cv=[0]*samples\n",
    "b=-np.cov(stock_dcf,final_price)[0][1]/np.var(final_price)\n",
    "    \n",
    "for s in range(samples):\n",
    "    cv[s]=stockPricing(stock_path[s])+b*(stock_path[s][len(stock_path[s])-1]-dividend*math.exp(g*(len(stock_path[s])-1)*dt))"
   ]
  },
  {
   "cell_type": "code",
   "execution_count": 550,
   "metadata": {},
   "outputs": [
    {
     "name": "stdout",
     "output_type": "stream",
     "text": [
      "Monte Carlo Simulation using Control Variate Method\n",
      "\n",
      "Expected stock price = 59.39303191658397\n",
      "Variance of stock price = 0.0015856240781279363\n",
      "Range of stock = 59.38992409339084-59.396139739777105\n"
     ]
    }
   ],
   "source": [
    "print(\"Monte Carlo Simulation using Control Variate Method\\n\")\n",
    "mean=np.mean(cv)\n",
    "std=np.std(cv)\n",
    "ci=1.96*std**2/samples\n",
    "print(\"Expected stock price = \"+str(mean))\n",
    "print(\"Variance of stock price = \"+str((std**2)/(samples)))\n",
    "print(\"Range of stock = \"+str(mean-ci)+\"-\"+str(mean+ci))"
   ]
  }
 ],
 "metadata": {
  "kernelspec": {
   "display_name": "Python 3",
   "language": "python",
   "name": "python3"
  },
  "language_info": {
   "codemirror_mode": {
    "name": "ipython",
    "version": 3
   },
   "file_extension": ".py",
   "mimetype": "text/x-python",
   "name": "python",
   "nbconvert_exporter": "python",
   "pygments_lexer": "ipython3",
   "version": "3.5.4"
  }
 },
 "nbformat": 4,
 "nbformat_minor": 2
}
