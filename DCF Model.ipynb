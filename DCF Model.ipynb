{
 "cells": [
  {
   "cell_type": "code",
   "execution_count": 101,
   "metadata": {},
   "outputs": [],
   "source": [
    "import math\n",
    "import numpy as np\n",
    "import matplotlib.pyplot as plt"
   ]
  },
  {
   "cell_type": "code",
   "execution_count": 102,
   "metadata": {},
   "outputs": [],
   "source": [
    "#Pricing stock using DCF model when dividend follows Geometric Brownian Motion\n",
    "\n",
    "r=0.1 # Require Rate of Return\n",
    "g=0.02 # Dividend Growth Rate per Year\n",
    "sigma=0.05 # Volatility of Dividend\n",
    "T=1000 # Time horizon (Year)\n",
    "f=2 # Frequency of dividend payment per year\n",
    "dt=1/f # Time Step\n",
    "n=int(T/dt) # Total sample time\n",
    "dividend=5.5\n",
    "\n",
    "samples=10000 # Number of samples for simulation\n",
    "\n",
    "stock_path=[[0 for x in range(n)] for y in range(samples)] "
   ]
  },
  {
   "cell_type": "code",
   "execution_count": 103,
   "metadata": {},
   "outputs": [],
   "source": [
    "#Generate Dividend Path\n",
    "\n",
    "for s in range(samples):\n",
    "    stock_path[s][0]=dividend\n",
    "    for t in range(1,len(stock_path[s])):\n",
    "        stock_path[s][t]=stock_path[s][t-1]*math.exp(np.random.normal((g-sigma**2/2)*dt,sigma*math.sqrt(dt)))"
   ]
  },
  {
   "cell_type": "code",
   "execution_count": 104,
   "metadata": {},
   "outputs": [],
   "source": [
    "#Stock pricing formula using discounted cash flow method\n",
    "\n",
    "def stockPricing(path):\n",
    "    dcf=0\n",
    "    for t in range(1,len(path)):\n",
    "        dcf+=(path[t]*dt)/((1+r)**(t*dt))\n",
    "    return dcf"
   ]
  },
  {
   "cell_type": "code",
   "execution_count": 105,
   "metadata": {},
   "outputs": [],
   "source": [
    "#Generate samples\n",
    "\n",
    "stock_dcf=[0]*samples\n",
    "\n",
    "for s in range(0,samples):\n",
    "    stock_dcf[s]=stockPricing(stock_path[s])"
   ]
  },
  {
   "cell_type": "code",
   "execution_count": 106,
   "metadata": {},
   "outputs": [
    {
     "name": "stdout",
     "output_type": "stream",
     "text": [
      "Traditional Closed Form Formula Method\n",
      "\n",
      "Expected stock price = 70.125\n"
     ]
    }
   ],
   "source": [
    "print(\"Traditional Closed Form Formula Method\\n\")\n",
    "price=dividend*(1+g)/(r-g)\n",
    "print(\"Expected stock price = \"+str(price))"
   ]
  },
  {
   "cell_type": "code",
   "execution_count": 107,
   "metadata": {},
   "outputs": [
    {
     "name": "stdout",
     "output_type": "stream",
     "text": [
      "Closed Form Formula Method\n",
      "\n",
      "Expected stock price = 71.66492464796332\n"
     ]
    }
   ],
   "source": [
    "print(\"Closed Form Formula Method\\n\")\n",
    "price=dt*(dividend*math.exp(g*dt))/((1+r)**dt-math.exp(g*dt))\n",
    "print(\"Expected stock price = \"+str(price))"
   ]
  },
  {
   "cell_type": "code",
   "execution_count": 108,
   "metadata": {},
   "outputs": [
    {
     "name": "stdout",
     "output_type": "stream",
     "text": [
      "Normal Monte Carlo Simulation Method\n",
      "\n",
      "Expected stock price = 71.75835010651208\n",
      "Variance of stock price = 0.0022198832319853617\n",
      "Range of stock = 71.7539991353774-71.76270107764677\n"
     ]
    }
   ],
   "source": [
    "print(\"Normal Monte Carlo Simulation Method\\n\")\n",
    "mean=np.mean(stock_dcf)\n",
    "std=np.std(stock_dcf)\n",
    "ci=1.96*std**2/samples\n",
    "print(\"Expected stock price = \"+str(mean))\n",
    "print(\"Variance of stock price = \"+str((std**2)/(samples)))\n",
    "print(\"Range of stock = \"+str(mean-ci)+\"-\"+str(mean+ci))"
   ]
  },
  {
   "cell_type": "code",
   "execution_count": 109,
   "metadata": {},
   "outputs": [],
   "source": [
    "#Variance Reduction Technique called Control Variate\n",
    "\n",
    "final_price=[0]*samples\n",
    "\n",
    "for s in range(samples):\n",
    "    final_price[s]=stock_path[s][len(stock_path[s])-1]\n",
    "\n",
    "cv=[0]*samples\n",
    "b=-np.cov(stock_dcf,final_price)[0][1]/np.var(final_price)\n",
    "    \n",
    "for s in range(samples):\n",
    "    cv[s]=stockPricing(stock_path[s])+b*(stock_path[s][len(stock_path[s])-1]-dividend*math.exp(g*(len(stock_path[s])-1)*dt))"
   ]
  },
  {
   "cell_type": "code",
   "execution_count": 110,
   "metadata": {},
   "outputs": [
    {
     "name": "stdout",
     "output_type": "stream",
     "text": [
      "Monte Carlo Simulation using Control Variate Method\n",
      "\n",
      "Expected stock price = 71.7613180249787\n",
      "Variance of stock price = 0.002165027618521313\n",
      "Range of stock = 71.7570745708464-71.76556147911101\n"
     ]
    }
   ],
   "source": [
    "print(\"Monte Carlo Simulation using Control Variate Method\\n\")\n",
    "mean=np.mean(cv)\n",
    "std=np.std(cv)\n",
    "ci=1.96*std**2/samples\n",
    "print(\"Expected stock price = \"+str(mean))\n",
    "print(\"Variance of stock price = \"+str((std**2)/(samples)))\n",
    "print(\"Range of stock = \"+str(mean-ci)+\"-\"+str(mean+ci))"
   ]
  },
  {
   "cell_type": "code",
   "execution_count": 111,
   "metadata": {},
   "outputs": [
    {
     "data": {
      "text/plain": [
       "'\\n\\nConclusion\\n\\nDividend Volatility does not affect stock price on average\\n\\n'"
      ]
     },
     "execution_count": 111,
     "metadata": {},
     "output_type": "execute_result"
    }
   ],
   "source": [
    "'''\n",
    "\n",
    "Conclusion\n",
    "\n",
    "Dividend Volatility does not affect stock price on average\n",
    "\n",
    "'''"
   ]
  }
 ],
 "metadata": {
  "kernelspec": {
   "display_name": "Python 3",
   "language": "python",
   "name": "python3"
  },
  "language_info": {
   "codemirror_mode": {
    "name": "ipython",
    "version": 3
   },
   "file_extension": ".py",
   "mimetype": "text/x-python",
   "name": "python",
   "nbconvert_exporter": "python",
   "pygments_lexer": "ipython3",
   "version": "3.5.4"
  }
 },
 "nbformat": 4,
 "nbformat_minor": 2
}
